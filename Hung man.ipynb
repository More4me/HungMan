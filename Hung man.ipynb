{
 "cells": [
  {
   "cell_type": "code",
   "execution_count": 111,
   "metadata": {},
   "outputs": [],
   "source": [
    "words = [\"Friday\", \"Sunday\"]"
   ]
  },
  {
   "cell_type": "code",
   "execution_count": 112,
   "metadata": {},
   "outputs": [],
   "source": [
    "import random \n",
    "import string\n",
    "from PIL import Image\n",
    "\n",
    "chosenWord = random.choice(words)"
   ]
  },
  {
   "cell_type": "code",
   "execution_count": 131,
   "metadata": {},
   "outputs": [
    {
     "name": "stdout",
     "output_type": "stream",
     "text": [
      "______\n"
     ]
    }
   ],
   "source": [
    "actualWord = \"\"\n",
    "#show _ instead of char\n",
    "for char in chosenWord:\n",
    "    actualWord += \"_\"\n",
    "print(actualWord)"
   ]
  },
  {
   "cell_type": "code",
   "execution_count": null,
   "metadata": {},
   "outputs": [
    {
     "name": "stdout",
     "output_type": "stream",
     "text": [
      "T\n",
      "_   _   _   _   _   _   R\n",
      "_   r   _   _   _   _   R\n",
      "The Char choosen before\n",
      "E\n",
      "_   r   _   _   _   _   W\n",
      "_   r   _   _   _   _   "
     ]
    }
   ],
   "source": [
    "actualWord = list(actualWord)\n",
    "alreadyChosen = []\n",
    "i=0\n",
    "while(\"_\" in actualWord and i<=6):\n",
    "    userInput = input()\n",
    "    \n",
    "    if(userInput in alreadyChosen):\n",
    "        print(\"The Char choosen before\")\n",
    "        continue\n",
    "    \n",
    "    # if(userInput in chosenWord):\n",
    "    idx = chosenWord.upper().find(userInput)\n",
    "    \n",
    "    alreadyChosen.append(userInput)\n",
    "    if(idx == -1):\n",
    "        i+=1\n",
    "        load_image(str(i))\n",
    "    else:\n",
    "        actualWord[idx]= chosenWord[idx]\n",
    "    prettyPrint(actualWord)\n",
    "if(i>=6):\n",
    "    print(\"Game Over\")\n",
    "else : \n",
    "    print(\"You win\")"
   ]
  },
  {
   "cell_type": "code",
   "execution_count": 115,
   "metadata": {},
   "outputs": [],
   "source": [
    "def prettyPrint(s):\n",
    "    for c in s:\n",
    "        print(c, end=\" \")\n",
    "        print(\" \",end= \" \")\n",
    "    "
   ]
  },
  {
   "cell_type": "code",
   "execution_count": 116,
   "metadata": {},
   "outputs": [
    {
     "name": "stdout",
     "output_type": "stream",
     "text": [
      "['A', 'B', 'C', 'D', 'E', 'F', 'G', 'H', 'I', 'J', 'K', 'L', 'M', 'N', 'O', 'P', 'Q', 'R', 'S', 'T', 'U', 'V', 'W', 'X', 'Y', 'Z']\n"
     ]
    }
   ],
   "source": [
    "print(list(string.ascii_uppercase))"
   ]
  },
  {
   "cell_type": "code",
   "execution_count": 129,
   "metadata": {},
   "outputs": [],
   "source": [
    "def load_image(i):\n",
    "    #Load the image\n",
    "    img = Image.open('./DeadManPicture/'+i+'.png')\n",
    "\n",
    "    #show the image\n",
    "    img.show()"
   ]
  },
  {
   "cell_type": "code",
   "execution_count": null,
   "metadata": {},
   "outputs": [],
   "source": []
  }
 ],
 "metadata": {
  "kernelspec": {
   "display_name": "Python 3",
   "language": "python",
   "name": "python3"
  },
  "language_info": {
   "codemirror_mode": {
    "name": "ipython",
    "version": 3
   },
   "file_extension": ".py",
   "mimetype": "text/x-python",
   "name": "python",
   "nbconvert_exporter": "python",
   "pygments_lexer": "ipython3",
   "version": "3.8.2"
  }
 },
 "nbformat": 4,
 "nbformat_minor": 4
}
